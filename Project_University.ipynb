{
  "nbformat": 4,
  "nbformat_minor": 0,
  "metadata": {
    "kernelspec": {
      "display_name": "Python 3",
      "language": "python",
      "name": "python3"
    },
    "language_info": {
      "codemirror_mode": {
        "name": "ipython",
        "version": 3
      },
      "file_extension": ".py",
      "mimetype": "text/x-python",
      "name": "python",
      "nbconvert_exporter": "python",
      "pygments_lexer": "ipython3",
      "version": "3.6.5"
    },
    "colab": {
      "name": "Project_University.ipynb",
      "version": "0.3.2",
      "provenance": []
    }
  },
  "cells": [
    {
      "cell_type": "markdown",
      "metadata": {
        "id": "JDMfYKIfL863",
        "colab_type": "text"
      },
      "source": [
        "K Means Clustering - based on distance formula"
      ]
    },
    {
      "cell_type": "code",
      "metadata": {
        "id": "xAUfbwgQL866",
        "colab_type": "code",
        "colab": {}
      },
      "source": [
        "#import numpy and pandas\n",
        "import pandas as pd \n",
        "import numpy as np"
      ],
      "execution_count": 0,
      "outputs": []
    },
    {
      "cell_type": "markdown",
      "metadata": {
        "id": "RQNh8CeyL87A",
        "colab_type": "text"
      },
      "source": [
        "**Loading a dataset university in excel file**\n",
        "\n",
        "which combine the colleges on factors given."
      ]
    },
    {
      "cell_type": "code",
      "metadata": {
        "id": "uDqVrjY2L87B",
        "colab_type": "code",
        "colab": {}
      },
      "source": [
        "colg = pd.read_excel('university.xlsx')"
      ],
      "execution_count": 0,
      "outputs": []
    },
    {
      "cell_type": "code",
      "metadata": {
        "id": "3LEAm0kfL87G",
        "colab_type": "code",
        "colab": {},
        "outputId": "cc4455ca-cd37-45ae-fac6-a45a75645256"
      },
      "source": [
        "colg.head()"
      ],
      "execution_count": 0,
      "outputs": [
        {
          "output_type": "execute_result",
          "data": {
            "text/html": [
              "<div>\n",
              "<style scoped>\n",
              "    .dataframe tbody tr th:only-of-type {\n",
              "        vertical-align: middle;\n",
              "    }\n",
              "\n",
              "    .dataframe tbody tr th {\n",
              "        vertical-align: top;\n",
              "    }\n",
              "\n",
              "    .dataframe thead th {\n",
              "        text-align: right;\n",
              "    }\n",
              "</style>\n",
              "<table border=\"1\" class=\"dataframe\">\n",
              "  <thead>\n",
              "    <tr style=\"text-align: right;\">\n",
              "      <th></th>\n",
              "      <th>University</th>\n",
              "      <th>SAT</th>\n",
              "      <th>Top10</th>\n",
              "      <th>Accept</th>\n",
              "      <th>SFRatio</th>\n",
              "      <th>Expenses</th>\n",
              "      <th>GradRate</th>\n",
              "    </tr>\n",
              "  </thead>\n",
              "  <tbody>\n",
              "    <tr>\n",
              "      <th>0</th>\n",
              "      <td>Harvard University</td>\n",
              "      <td>1310</td>\n",
              "      <td>89</td>\n",
              "      <td>22</td>\n",
              "      <td>13</td>\n",
              "      <td>22704</td>\n",
              "      <td>94</td>\n",
              "    </tr>\n",
              "    <tr>\n",
              "      <th>1</th>\n",
              "      <td>California Institute of Technology</td>\n",
              "      <td>1415</td>\n",
              "      <td>100</td>\n",
              "      <td>25</td>\n",
              "      <td>6</td>\n",
              "      <td>63575</td>\n",
              "      <td>81</td>\n",
              "    </tr>\n",
              "    <tr>\n",
              "      <th>2</th>\n",
              "      <td>Massachusetts Institute of Technology</td>\n",
              "      <td>1260</td>\n",
              "      <td>62</td>\n",
              "      <td>59</td>\n",
              "      <td>9</td>\n",
              "      <td>25026</td>\n",
              "      <td>72</td>\n",
              "    </tr>\n",
              "    <tr>\n",
              "      <th>3</th>\n",
              "      <td>Stanford University</td>\n",
              "      <td>1310</td>\n",
              "      <td>76</td>\n",
              "      <td>24</td>\n",
              "      <td>12</td>\n",
              "      <td>31510</td>\n",
              "      <td>88</td>\n",
              "    </tr>\n",
              "    <tr>\n",
              "      <th>4</th>\n",
              "      <td>Princeton University</td>\n",
              "      <td>1280</td>\n",
              "      <td>83</td>\n",
              "      <td>33</td>\n",
              "      <td>13</td>\n",
              "      <td>21864</td>\n",
              "      <td>90</td>\n",
              "    </tr>\n",
              "  </tbody>\n",
              "</table>\n",
              "</div>"
            ],
            "text/plain": [
              "                              University   SAT  Top10  Accept  SFRatio  \\\n",
              "0                     Harvard University  1310     89      22       13   \n",
              "1     California Institute of Technology  1415    100      25        6   \n",
              "2  Massachusetts Institute of Technology  1260     62      59        9   \n",
              "3                    Stanford University  1310     76      24       12   \n",
              "4                   Princeton University  1280     83      33       13   \n",
              "\n",
              "   Expenses  GradRate  \n",
              "0     22704        94  \n",
              "1     63575        81  \n",
              "2     25026        72  \n",
              "3     31510        88  \n",
              "4     21864        90  "
            ]
          },
          "metadata": {
            "tags": []
          },
          "execution_count": 3
        }
      ]
    },
    {
      "cell_type": "code",
      "metadata": {
        "id": "yik_rFOyL87M",
        "colab_type": "code",
        "colab": {},
        "outputId": "f7bb54f3-9751-4ccc-dc23-6fc15fa20820"
      },
      "source": [
        "colg.info()"
      ],
      "execution_count": 0,
      "outputs": [
        {
          "output_type": "stream",
          "text": [
            "<class 'pandas.core.frame.DataFrame'>\n",
            "RangeIndex: 100 entries, 0 to 99\n",
            "Data columns (total 7 columns):\n",
            "University    100 non-null object\n",
            "SAT           100 non-null int64\n",
            "Top10         100 non-null int64\n",
            "Accept        100 non-null int64\n",
            "SFRatio       100 non-null int64\n",
            "Expenses      100 non-null int64\n",
            "GradRate      100 non-null int64\n",
            "dtypes: int64(6), object(1)\n",
            "memory usage: 5.5+ KB\n"
          ],
          "name": "stdout"
        }
      ]
    },
    {
      "cell_type": "code",
      "metadata": {
        "id": "jpAtfGr6L87S",
        "colab_type": "code",
        "colab": {},
        "outputId": "1ef1bf80-df92-4d7d-8c4a-266222451789"
      },
      "source": [
        "colg.shape"
      ],
      "execution_count": 0,
      "outputs": [
        {
          "output_type": "execute_result",
          "data": {
            "text/plain": [
              "(100, 7)"
            ]
          },
          "metadata": {
            "tags": []
          },
          "execution_count": 5
        }
      ]
    },
    {
      "cell_type": "code",
      "metadata": {
        "id": "YWiaP0V8L87X",
        "colab_type": "code",
        "colab": {},
        "outputId": "eecd24d5-cb3c-4dba-c3c0-09a019edca58"
      },
      "source": [
        "#checking for any null values\n",
        "colg.isnull().sum()"
      ],
      "execution_count": 0,
      "outputs": [
        {
          "output_type": "execute_result",
          "data": {
            "text/plain": [
              "University    0\n",
              "SAT           0\n",
              "Top10         0\n",
              "Accept        0\n",
              "SFRatio       0\n",
              "Expenses      0\n",
              "GradRate      0\n",
              "dtype: int64"
            ]
          },
          "metadata": {
            "tags": []
          },
          "execution_count": 7
        }
      ]
    },
    {
      "cell_type": "code",
      "metadata": {
        "id": "wSRb1KKuL87c",
        "colab_type": "code",
        "colab": {}
      },
      "source": [
        "X = colg.iloc[:,1:]"
      ],
      "execution_count": 0,
      "outputs": []
    },
    {
      "cell_type": "code",
      "metadata": {
        "id": "p0Ie30g9L87h",
        "colab_type": "code",
        "colab": {},
        "outputId": "87ac3e41-72d6-4556-eb7f-c6e3a0dcd7b1"
      },
      "source": [
        "X.head()"
      ],
      "execution_count": 0,
      "outputs": [
        {
          "output_type": "execute_result",
          "data": {
            "text/html": [
              "<div>\n",
              "<style scoped>\n",
              "    .dataframe tbody tr th:only-of-type {\n",
              "        vertical-align: middle;\n",
              "    }\n",
              "\n",
              "    .dataframe tbody tr th {\n",
              "        vertical-align: top;\n",
              "    }\n",
              "\n",
              "    .dataframe thead th {\n",
              "        text-align: right;\n",
              "    }\n",
              "</style>\n",
              "<table border=\"1\" class=\"dataframe\">\n",
              "  <thead>\n",
              "    <tr style=\"text-align: right;\">\n",
              "      <th></th>\n",
              "      <th>SAT</th>\n",
              "      <th>Top10</th>\n",
              "      <th>Accept</th>\n",
              "      <th>SFRatio</th>\n",
              "      <th>Expenses</th>\n",
              "      <th>GradRate</th>\n",
              "    </tr>\n",
              "  </thead>\n",
              "  <tbody>\n",
              "    <tr>\n",
              "      <th>0</th>\n",
              "      <td>1310</td>\n",
              "      <td>89</td>\n",
              "      <td>22</td>\n",
              "      <td>13</td>\n",
              "      <td>22704</td>\n",
              "      <td>94</td>\n",
              "    </tr>\n",
              "    <tr>\n",
              "      <th>1</th>\n",
              "      <td>1415</td>\n",
              "      <td>100</td>\n",
              "      <td>25</td>\n",
              "      <td>6</td>\n",
              "      <td>63575</td>\n",
              "      <td>81</td>\n",
              "    </tr>\n",
              "    <tr>\n",
              "      <th>2</th>\n",
              "      <td>1260</td>\n",
              "      <td>62</td>\n",
              "      <td>59</td>\n",
              "      <td>9</td>\n",
              "      <td>25026</td>\n",
              "      <td>72</td>\n",
              "    </tr>\n",
              "    <tr>\n",
              "      <th>3</th>\n",
              "      <td>1310</td>\n",
              "      <td>76</td>\n",
              "      <td>24</td>\n",
              "      <td>12</td>\n",
              "      <td>31510</td>\n",
              "      <td>88</td>\n",
              "    </tr>\n",
              "    <tr>\n",
              "      <th>4</th>\n",
              "      <td>1280</td>\n",
              "      <td>83</td>\n",
              "      <td>33</td>\n",
              "      <td>13</td>\n",
              "      <td>21864</td>\n",
              "      <td>90</td>\n",
              "    </tr>\n",
              "  </tbody>\n",
              "</table>\n",
              "</div>"
            ],
            "text/plain": [
              "    SAT  Top10  Accept  SFRatio  Expenses  GradRate\n",
              "0  1310     89      22       13     22704        94\n",
              "1  1415    100      25        6     63575        81\n",
              "2  1260     62      59        9     25026        72\n",
              "3  1310     76      24       12     31510        88\n",
              "4  1280     83      33       13     21864        90"
            ]
          },
          "metadata": {
            "tags": []
          },
          "execution_count": 10
        }
      ]
    },
    {
      "cell_type": "markdown",
      "metadata": {
        "id": "qA0CMl_nL87m",
        "colab_type": "text"
      },
      "source": [
        "**Preprocessing**"
      ]
    },
    {
      "cell_type": "code",
      "metadata": {
        "id": "nDRDr7tgL87n",
        "colab_type": "code",
        "colab": {}
      },
      "source": [
        "from sklearn.preprocessing import scale"
      ],
      "execution_count": 0,
      "outputs": []
    },
    {
      "cell_type": "code",
      "metadata": {
        "id": "dBOedz0dL87s",
        "colab_type": "code",
        "colab": {}
      },
      "source": [
        "X = scale(X)"
      ],
      "execution_count": 0,
      "outputs": []
    },
    {
      "cell_type": "code",
      "metadata": {
        "id": "qScvobsSL87x",
        "colab_type": "code",
        "colab": {},
        "outputId": "0874f111-f073-4bb6-dd84-b0d659fead26"
      },
      "source": [
        "X"
      ],
      "execution_count": 0,
      "outputs": [
        {
          "output_type": "execute_result",
          "data": {
            "text/plain": [
              "array([[ 6.32860277e-01,  1.50011672e+00, -8.47758804e-01,\n",
              "        -1.06559813e+00, -1.49953373e+00,  1.21638361e+00],\n",
              "       [ 2.80231274e+00,  3.69443640e+00, -3.36033168e-01,\n",
              "        -2.18224287e+00,  1.29812886e+00, -1.28171859e+00],\n",
              "       [-4.00212326e-01, -3.88594066e+00,  5.46352405e+00,\n",
              "        -1.70368084e+00, -1.34059041e+00, -3.01117396e+00],\n",
              "       [ 6.32860277e-01, -1.09317017e+00, -5.06608380e-01,\n",
              "        -1.22511881e+00, -8.96753843e-01,  6.34133635e-02],\n",
              "       [ 1.30167148e-02,  3.03215082e-01,  1.02856853e+00,\n",
              "        -1.06559813e+00, -1.55703261e+00,  4.47736779e-01],\n",
              "       [ 1.45931836e+00, -4.94719345e-01, -8.47758804e-01,\n",
              "         1.64625339e+00, -1.56606814e+00, -3.20910052e-01],\n",
              "       [ 2.49239096e+00,  5.02698689e-01, -3.36033168e-01,\n",
              "         5.29608650e-01,  4.98073064e-01,  8.32060194e-01],\n",
              "       [ 1.25270384e+00, -6.94202952e-01, -3.36033168e-01,\n",
              "        -1.08474061e-01, -1.22169095e+00, -8.97395175e-01],\n",
              "       [-1.24733186e+00, -8.93686559e-01, -1.53005965e+00,\n",
              "         6.89129328e-01, -3.96098807e-02,  1.40854532e+00],\n",
              "       [ 5.08891564e-01, -1.09317017e+00,  5.11725637e-03,\n",
              "         5.29608650e-01,  8.77775107e-02,  1.40854532e+00],\n",
              "       [-1.45394638e+00,  5.02698689e-01,  1.02856853e+00,\n",
              "         5.29608650e-01, -7.67244470e-01, -5.13071760e-01],\n",
              "       [-1.53659219e+00, -1.29265377e+00,  1.75692469e-01,\n",
              "         6.89129328e-01,  9.25823633e-01, -3.20910052e-01],\n",
              "       [-9.16748628e-01,  9.01665903e-01,  5.11725637e-03,\n",
              "         8.48650006e-01, -4.84404759e-01, -1.08955688e+00],\n",
              "       [-6.68811203e-01,  3.03215082e-01, -1.65457956e-01,\n",
              "         1.32721204e+00,  9.12475679e-01,  4.47736779e-01],\n",
              "       [-1.14402460e+00, -9.57521313e-02, -1.65457956e-01,\n",
              "         5.29608650e-01,  7.93439315e-01,  1.21638361e+00],\n",
              "       [-8.96087176e-01, -1.09317017e+00,  8.57993317e-01,\n",
              "        -1.38463948e+00, -4.98847929e-01, -1.08955688e+00],\n",
              "       [ 5.70875920e-01, -4.94719345e-01, -1.01833402e+00,\n",
              "         3.70087972e-01, -1.48604887e+00, -1.08955688e+00],\n",
              "       [-2.34920710e-01, -1.09317017e+00, -1.35948444e+00,\n",
              "         1.48673272e+00, -5.18288026e-01,  1.40854532e+00],\n",
              "       [ 2.81615592e-01, -6.94202952e-01, -5.06608380e-01,\n",
              "        -1.08474061e-01,  1.64709227e+00,  6.34133635e-02],\n",
              "       [ 2.60954139e-01,  5.02698689e-01, -6.77183592e-01,\n",
              "         5.10466169e-02, -1.19964971e+00, -1.28171859e+00],\n",
              "       [-1.37130057e+00, -1.09317017e+00, -6.77183592e-01,\n",
              "        -1.38463948e+00,  1.52607083e+00, -8.97395175e-01],\n",
              "       [ 2.60954139e-01,  5.02698689e-01, -8.47758804e-01,\n",
              "         2.10567295e-01, -1.45983212e+00, -1.28171859e+00],\n",
              "       [-4.82858135e-01,  1.10114951e+00,  5.16842893e-01,\n",
              "         5.29608650e-01, -1.39199714e+00, -5.13071760e-01],\n",
              "       [-2.55582162e-01,  1.10114951e+00, -1.65457956e-01,\n",
              "         8.48650006e-01,  5.11626370e-01,  1.02422190e+00],\n",
              "       [ 1.31468819e+00,  7.02182296e-01,  1.19914374e+00,\n",
              "         5.10466169e-02,  4.61520207e-01, -5.13071760e-01],\n",
              "       [-1.52274902e-01,  9.01665903e-01, -1.01833402e+00,\n",
              "        -4.27515416e-01, -5.86739069e-01,  4.47736779e-01],\n",
              "       [-1.61923800e+00, -6.94202952e-01, -1.18890923e+00,\n",
              "         2.10567295e-01,  9.53796836e-03,  8.32060194e-01],\n",
              "       [ 1.45931836e+00, -9.57521313e-02,  5.16842893e-01,\n",
              "         2.10567295e-01,  4.50841844e-01, -3.20910052e-01],\n",
              "       [ 1.14939658e+00,  7.02182296e-01,  1.75692469e-01,\n",
              "        -2.67994739e-01, -9.13113643e-01, -8.97395175e-01],\n",
              "       [-1.22667041e+00,  7.02182296e-01, -8.47758804e-01,\n",
              "        -1.54416016e+00,  1.60465263e+00,  1.21638361e+00],\n",
              "       [ 1.19071948e+00,  9.01665903e-01,  5.11725637e-03,\n",
              "        -2.67994739e-01,  1.34583923e+00, -1.28171859e+00],\n",
              "       [ 1.10807367e+00,  1.03731476e-01,  1.75692469e-01,\n",
              "         1.16769136e+00, -8.41993009e-01,  6.34133635e-02],\n",
              "       [ 1.33534965e+00,  5.02698689e-01,  1.75692469e-01,\n",
              "        -9.06077450e-01,  9.01732972e-02,  4.47736779e-01],\n",
              "       [ 1.98969783e-01,  1.03731476e-01,  8.57993317e-01,\n",
              "         1.00817068e+00,  7.76737260e-01, -1.47388030e+00],\n",
              "       [-1.37130057e+00, -1.09317017e+00,  1.36971895e+00,\n",
              "        -1.22511881e+00, -7.29870200e-01,  6.34133635e-02],\n",
              "       [ 6.74183181e-01,  1.50011672e+00, -1.01833402e+00,\n",
              "        -1.54416016e+00,  1.54749601e+00, -1.28748344e-01],\n",
              "       [-1.53659219e+00, -1.29265377e+00,  1.75692469e-01,\n",
              "         5.29608650e-01,  5.12310881e-01, -1.28748344e-01],\n",
              "       [-8.96087176e-01, -4.94719345e-01,  5.16842893e-01,\n",
              "         8.48650006e-01, -1.32429495e-01,  1.60070703e+00],\n",
              "       [ 1.29402674e+00, -8.93686559e-01,  5.11725637e-03,\n",
              "        -1.22511881e+00,  1.10208507e+00, -1.08955688e+00],\n",
              "       [-2.96905066e-01, -6.94202952e-01, -1.53005965e+00,\n",
              "        -1.22511881e+00,  1.41559085e+00, -8.97395175e-01],\n",
              "       [-1.43328493e+00,  3.03215082e-01, -1.53005965e+00,\n",
              "         1.32721204e+00,  1.40778743e+00, -7.05233467e-01],\n",
              "       [ 9.63443509e-01, -2.95235738e-01, -6.77183592e-01,\n",
              "        -4.27515416e-01, -4.03221822e-01,  2.55575071e-01],\n",
              "       [-8.75425724e-01,  9.01665903e-01,  1.36971895e+00,\n",
              "        -2.67994739e-01, -2.92194230e-01,  2.55575071e-01],\n",
              "       [-8.96087176e-01,  3.03215082e-01,  5.11725637e-03,\n",
              "         1.32721204e+00,  1.39840963e+00,  1.40854532e+00],\n",
              "       [ 1.19071948e+00,  7.02182296e-01,  5.11725637e-03,\n",
              "         1.16769136e+00, -1.24400599e+00,  2.55575071e-01],\n",
              "       [-8.34102820e-01,  9.01665903e-01, -5.06608380e-01,\n",
              "        -9.06077450e-01, -2.57694904e-01, -1.28171859e+00],\n",
              "       [-5.86165395e-01,  1.30063312e+00, -1.65457956e-01,\n",
              "         5.10466169e-02,  1.38567774e+00, -3.20910052e-01],\n",
              "       [-1.30931622e+00,  7.02182296e-01,  1.02856853e+00,\n",
              "        -1.06559813e+00,  1.18374716e+00, -5.13071760e-01],\n",
              "       [-5.44842491e-01, -1.29265377e+00,  1.02856853e+00,\n",
              "         5.29608650e-01,  1.60088782e+00,  2.55575071e-01],\n",
              "       [ 5.43396189e-02,  1.10114951e+00,  6.87418105e-01,\n",
              "        -9.06077450e-01, -3.70639126e-01, -1.08955688e+00],\n",
              "       [ 8.18813345e-01, -2.95235738e-01, -1.35948444e+00,\n",
              "         1.64625339e+00, -1.97800241e-01, -1.28748344e-01],\n",
              "       [ 5.50214468e-01,  1.10114951e+00,  1.19914374e+00,\n",
              "        -7.46556772e-01,  1.11748655e+00, -7.05233467e-01],\n",
              "       [-1.06137879e+00, -6.94202952e-01, -1.35948444e+00,\n",
              "         6.89129328e-01, -3.28541734e-01,  1.40854532e+00],\n",
              "       [-4.82858135e-01, -1.29265377e+00, -5.06608380e-01,\n",
              "         5.10466169e-02,  1.26985858e+00,  6.39898487e-01],\n",
              "       [-7.30795559e-01,  9.01665903e-01, -1.01833402e+00,\n",
              "        -7.46556772e-01, -1.51787861e+00, -8.97395175e-01],\n",
              "       [-3.17566518e-01,  5.02698689e-01, -1.01833402e+00,\n",
              "         1.48673272e+00, -1.80892834e-01,  1.40854532e+00],\n",
              "       [-1.93597806e-01,  1.10114951e+00,  1.36971895e+00,\n",
              "         5.29608650e-01, -5.88108090e-01, -1.28171859e+00],\n",
              "       [ 7.50010710e-02, -2.95235738e-01,  1.19914374e+00,\n",
              "         2.10567295e-01, -1.47345388e+00,  1.21638361e+00],\n",
              "       [ 1.35601110e+00, -1.29265377e+00, -6.77183592e-01,\n",
              "        -1.54416016e+00,  8.44572244e-01, -1.08955688e+00],\n",
              "       [-4.89676414e-02,  1.10114951e+00, -8.47758804e-01,\n",
              "         1.16769136e+00,  9.24317710e-01,  6.39898487e-01],\n",
              "       [-1.72936354e-01, -1.29265377e+00,  5.16842893e-01,\n",
              "        -1.06559813e+00,  4.17574637e-01,  1.40854532e+00],\n",
              "       [ 5.43396189e-02, -2.95235738e-01,  8.57993317e-01,\n",
              "         1.32721204e+00, -1.43723917e-01, -1.08955688e+00],\n",
              "       [-1.37130057e+00, -8.93686559e-01, -1.65457956e-01,\n",
              "        -7.46556772e-01,  1.51019019e+00,  1.21638361e+00],\n",
              "       [ 8.18813345e-01, -6.94202952e-01,  5.16842893e-01,\n",
              "        -1.54416016e+00, -2.93631702e-01,  2.55575071e-01],\n",
              "       [ 4.05584304e-01, -8.93686559e-01,  8.57993317e-01,\n",
              "         1.64625339e+00, -1.15679936e+00, -1.28748344e-01],\n",
              "       [-9.78732984e-01,  7.02182296e-01, -5.06608380e-01,\n",
              "        -1.06559813e+00, -1.73632916e-02,  2.55575071e-01],\n",
              "       [-1.59857655e+00, -9.57521313e-02, -1.18890923e+00,\n",
              "        -1.22511881e+00, -3.39630803e-01,  1.02422190e+00],\n",
              "       [-2.34920710e-01, -2.95235738e-01,  5.16842893e-01,\n",
              "         1.48673272e+00, -7.12552086e-01,  1.02422190e+00],\n",
              "       [ 1.10807367e+00, -1.09317017e+00,  1.02856853e+00,\n",
              "         6.89129328e-01, -1.00599760e-01,  8.32060194e-01],\n",
              "       [ 1.19071948e+00,  1.03731476e-01,  1.19914374e+00,\n",
              "        -1.38463948e+00,  1.08442470e+00,  8.32060194e-01],\n",
              "       [-3.79550874e-01,  1.50011672e+00,  6.87418105e-01,\n",
              "         1.00817068e+00, -1.47680798e+00, -1.28748344e-01],\n",
              "       [ 1.25270384e+00,  1.03731476e-01, -1.65457956e-01,\n",
              "         1.32721204e+00,  1.50204451e+00,  6.39898487e-01],\n",
              "       [ 7.98151893e-01, -4.94719345e-01, -1.53005965e+00,\n",
              "         3.70087972e-01,  3.97381579e-01, -1.28171859e+00],\n",
              "       [-7.10134107e-01, -6.94202952e-01,  5.11725637e-03,\n",
              "        -4.27515416e-01,  7.91591137e-01, -5.13071760e-01],\n",
              "       [ 1.43865691e+00,  1.10114951e+00,  5.16842893e-01,\n",
              "         5.10466169e-02, -1.52725640e+00, -1.28748344e-01],\n",
              "       [-1.43328493e+00, -1.09317017e+00,  1.75692469e-01,\n",
              "        -9.06077450e-01, -3.19232392e-01, -1.08955688e+00],\n",
              "       [-2.83061893e-02, -8.93686559e-01,  6.87418105e-01,\n",
              "         6.89129328e-01,  1.35275279e+00,  1.60070703e+00],\n",
              "       [ 1.06675077e+00,  1.10114951e+00,  3.46267681e-01,\n",
              "         1.48673272e+00, -6.23360377e-01, -1.47388030e+00],\n",
              "       [ 1.00476641e+00, -1.29265377e+00,  8.57993317e-01,\n",
              "         5.29608650e-01,  9.32394933e-01,  6.39898487e-01],\n",
              "       [ 1.39733400e+00,  1.50011672e+00, -6.77183592e-01,\n",
              "        -2.67994739e-01, -7.59167247e-01,  1.40854532e+00],\n",
              "       [-3.58889422e-01,  9.01665903e-01,  1.02856853e+00,\n",
              "         1.32721204e+00, -1.36906604e+00, -5.13071760e-01],\n",
              "       [-6.89472655e-01,  1.10114951e+00, -3.36033168e-01,\n",
              "        -1.38463948e+00,  1.00029837e+00,  4.47736779e-01],\n",
              "       [ 5.50214468e-01, -8.93686559e-01,  1.36971895e+00,\n",
              "        -1.38463948e+00,  1.31893797e+00, -1.08955688e+00],\n",
              "       [ 4.46907208e-01, -2.95235738e-01,  1.75692469e-01,\n",
              "         6.89129328e-01,  6.12728561e-01, -5.13071760e-01],\n",
              "       [-1.28865476e+00, -6.94202952e-01, -3.36033168e-01,\n",
              "        -1.22511881e+00, -4.57366597e-01, -1.28171859e+00],\n",
              "       [-8.75425724e-01, -1.09317017e+00,  1.19914374e+00,\n",
              "        -7.46556772e-01, -5.85164695e-01, -1.28171859e+00],\n",
              "       [ 1.78308331e-01, -9.57521313e-02,  5.11725637e-03,\n",
              "        -9.06077450e-01, -1.36653335e+00,  2.55575071e-01],\n",
              "       [-3.38227970e-01,  1.10114951e+00,  3.46267681e-01,\n",
              "        -1.22511881e+00, -7.98663499e-01, -8.97395175e-01],\n",
              "       [ 7.50010710e-02,  1.03731476e-01,  8.57993317e-01,\n",
              "        -9.06077450e-01,  1.73204413e-01, -1.08955688e+00],\n",
              "       [-5.65503943e-01, -4.94719345e-01, -5.06608380e-01,\n",
              "         1.64625339e+00,  6.86837767e-03,  4.47736779e-01],\n",
              "       [-1.08204024e+00,  3.03215082e-01, -1.53005965e+00,\n",
              "         2.10567295e-01, -1.53834547e+00, -3.20910052e-01],\n",
              "       [ 3.64261400e-01, -6.94202952e-01, -1.35948444e+00,\n",
              "         1.00817068e+00,  4.51731707e-01,  1.40854532e+00],\n",
              "       [ 1.17005803e+00,  1.03731476e-01, -6.77183592e-01,\n",
              "         5.29608650e-01,  6.23406924e-01, -1.28748344e-01],\n",
              "       [-5.65503943e-01,  1.30063312e+00, -8.47758804e-01,\n",
              "         1.16769136e+00,  1.31791121e+00,  1.60070703e+00],\n",
              "       [ 4.05584304e-01,  7.02182296e-01,  1.36971895e+00,\n",
              "        -1.06559813e+00, -9.26872302e-01,  2.55575071e-01],\n",
              "       [-1.18534750e+00, -1.09317017e+00, -1.01833402e+00,\n",
              "         5.10466169e-02, -1.27131795e+00,  1.02422190e+00],\n",
              "       [-9.78732984e-01, -2.95235738e-01,  3.46267681e-01,\n",
              "         3.70087972e-01, -1.15179832e-01,  1.60070703e+00],\n",
              "       [ 1.37667255e+00, -2.95235738e-01, -1.65457956e-01,\n",
              "        -4.27515416e-01,  9.41362019e-01, -1.47388030e+00],\n",
              "       [-5.86165395e-01,  9.01665903e-01,  1.75692469e-01,\n",
              "         6.89129328e-01, -1.40096423e+00,  1.60070703e+00],\n",
              "       [ 1.43865691e+00,  1.03731476e-01, -1.18890923e+00,\n",
              "         5.10466169e-02,  2.00927085e-01,  1.02422190e+00]])"
            ]
          },
          "metadata": {
            "tags": []
          },
          "execution_count": 14
        }
      ]
    },
    {
      "cell_type": "markdown",
      "metadata": {
        "id": "tRoluKfdL873",
        "colab_type": "text"
      },
      "source": [
        "**Applying the Algorithm KMeans**"
      ]
    },
    {
      "cell_type": "code",
      "metadata": {
        "id": "ntOfCA8eL876",
        "colab_type": "code",
        "colab": {}
      },
      "source": [
        "from sklearn.cluster import KMeans"
      ],
      "execution_count": 0,
      "outputs": []
    },
    {
      "cell_type": "code",
      "metadata": {
        "id": "tRXtdQz8L87_",
        "colab_type": "code",
        "colab": {}
      },
      "source": [
        "#giving the no. of clusters in which to combine randomly\n",
        "model = KMeans(n_clusters = 3,random_state = 5)"
      ],
      "execution_count": 0,
      "outputs": []
    },
    {
      "cell_type": "code",
      "metadata": {
        "id": "uz3SKaQTL88E",
        "colab_type": "code",
        "colab": {},
        "outputId": "a7c8cae0-ae98-4517-c67b-acaf32c0ec0c"
      },
      "source": [
        "#fitting the model x\n",
        "model.fit(X)"
      ],
      "execution_count": 0,
      "outputs": [
        {
          "output_type": "execute_result",
          "data": {
            "text/plain": [
              "KMeans(algorithm='auto', copy_x=True, init='k-means++', max_iter=300,\n",
              "    n_clusters=3, n_init=10, n_jobs=1, precompute_distances='auto',\n",
              "    random_state=5, tol=0.0001, verbose=0)"
            ]
          },
          "metadata": {
            "tags": []
          },
          "execution_count": 25
        }
      ]
    },
    {
      "cell_type": "code",
      "metadata": {
        "id": "JVel_hrvL88J",
        "colab_type": "code",
        "colab": {},
        "outputId": "ea2870c7-d7f9-4bce-c69b-5fd1ed75fa60"
      },
      "source": [
        "model.labels_"
      ],
      "execution_count": 0,
      "outputs": [
        {
          "output_type": "execute_result",
          "data": {
            "text/plain": [
              "array([0, 1, 1, 0, 0, 0, 0, 0, 2, 2, 0, 2, 0, 2, 2, 1, 0, 2, 2, 0, 1, 0,\n",
              "       0, 2, 1, 0, 2, 0, 0, 2, 1, 0, 0, 1, 1, 1, 2, 2, 1, 1, 2, 0, 1, 2,\n",
              "       0, 1, 1, 1, 2, 1, 0, 1, 2, 2, 0, 2, 0, 0, 1, 2, 2, 0, 2, 1, 0, 1,\n",
              "       2, 2, 0, 1, 0, 2, 0, 1, 0, 1, 2, 0, 2, 0, 0, 1, 1, 0, 1, 1, 0, 1,\n",
              "       1, 2, 0, 2, 0, 2, 1, 2, 2, 1, 0, 0])"
            ]
          },
          "metadata": {
            "tags": []
          },
          "execution_count": 26
        }
      ]
    },
    {
      "cell_type": "code",
      "metadata": {
        "id": "36bsE1ExL88O",
        "colab_type": "code",
        "colab": {}
      },
      "source": [
        "#we cluster according to model.labels_\n",
        "colg['Cluster'] = model.labels_ "
      ],
      "execution_count": 0,
      "outputs": []
    },
    {
      "cell_type": "code",
      "metadata": {
        "id": "woIRGvHXL88U",
        "colab_type": "code",
        "colab": {},
        "outputId": "f4adc8d8-f22c-4341-f196-252439ab1f68"
      },
      "source": [
        "colg.head()"
      ],
      "execution_count": 0,
      "outputs": [
        {
          "output_type": "execute_result",
          "data": {
            "text/html": [
              "<div>\n",
              "<style scoped>\n",
              "    .dataframe tbody tr th:only-of-type {\n",
              "        vertical-align: middle;\n",
              "    }\n",
              "\n",
              "    .dataframe tbody tr th {\n",
              "        vertical-align: top;\n",
              "    }\n",
              "\n",
              "    .dataframe thead th {\n",
              "        text-align: right;\n",
              "    }\n",
              "</style>\n",
              "<table border=\"1\" class=\"dataframe\">\n",
              "  <thead>\n",
              "    <tr style=\"text-align: right;\">\n",
              "      <th></th>\n",
              "      <th>University</th>\n",
              "      <th>SAT</th>\n",
              "      <th>Top10</th>\n",
              "      <th>Accept</th>\n",
              "      <th>SFRatio</th>\n",
              "      <th>Expenses</th>\n",
              "      <th>GradRate</th>\n",
              "      <th>Cluster</th>\n",
              "    </tr>\n",
              "  </thead>\n",
              "  <tbody>\n",
              "    <tr>\n",
              "      <th>0</th>\n",
              "      <td>Harvard University</td>\n",
              "      <td>1310</td>\n",
              "      <td>89</td>\n",
              "      <td>22</td>\n",
              "      <td>13</td>\n",
              "      <td>22704</td>\n",
              "      <td>94</td>\n",
              "      <td>0</td>\n",
              "    </tr>\n",
              "    <tr>\n",
              "      <th>1</th>\n",
              "      <td>California Institute of Technology</td>\n",
              "      <td>1415</td>\n",
              "      <td>100</td>\n",
              "      <td>25</td>\n",
              "      <td>6</td>\n",
              "      <td>63575</td>\n",
              "      <td>81</td>\n",
              "      <td>1</td>\n",
              "    </tr>\n",
              "    <tr>\n",
              "      <th>2</th>\n",
              "      <td>Massachusetts Institute of Technology</td>\n",
              "      <td>1260</td>\n",
              "      <td>62</td>\n",
              "      <td>59</td>\n",
              "      <td>9</td>\n",
              "      <td>25026</td>\n",
              "      <td>72</td>\n",
              "      <td>1</td>\n",
              "    </tr>\n",
              "    <tr>\n",
              "      <th>3</th>\n",
              "      <td>Stanford University</td>\n",
              "      <td>1310</td>\n",
              "      <td>76</td>\n",
              "      <td>24</td>\n",
              "      <td>12</td>\n",
              "      <td>31510</td>\n",
              "      <td>88</td>\n",
              "      <td>0</td>\n",
              "    </tr>\n",
              "    <tr>\n",
              "      <th>4</th>\n",
              "      <td>Princeton University</td>\n",
              "      <td>1280</td>\n",
              "      <td>83</td>\n",
              "      <td>33</td>\n",
              "      <td>13</td>\n",
              "      <td>21864</td>\n",
              "      <td>90</td>\n",
              "      <td>0</td>\n",
              "    </tr>\n",
              "  </tbody>\n",
              "</table>\n",
              "</div>"
            ],
            "text/plain": [
              "                              University   SAT  Top10  Accept  SFRatio  \\\n",
              "0                     Harvard University  1310     89      22       13   \n",
              "1     California Institute of Technology  1415    100      25        6   \n",
              "2  Massachusetts Institute of Technology  1260     62      59        9   \n",
              "3                    Stanford University  1310     76      24       12   \n",
              "4                   Princeton University  1280     83      33       13   \n",
              "\n",
              "   Expenses  GradRate  Cluster  \n",
              "0     22704        94        0  \n",
              "1     63575        81        1  \n",
              "2     25026        72        1  \n",
              "3     31510        88        0  \n",
              "4     21864        90        0  "
            ]
          },
          "metadata": {
            "tags": []
          },
          "execution_count": 30
        }
      ]
    },
    {
      "cell_type": "code",
      "metadata": {
        "id": "NShFeVjmL88Z",
        "colab_type": "code",
        "colab": {},
        "outputId": "ef14bfa6-3420-480a-fd99-668720f5ba99"
      },
      "source": [
        "#grouping them and finding there mean\n",
        "colg.groupby('Cluster').mean()"
      ],
      "execution_count": 0,
      "outputs": [
        {
          "output_type": "execute_result",
          "data": {
            "text/html": [
              "<div>\n",
              "<style scoped>\n",
              "    .dataframe tbody tr th:only-of-type {\n",
              "        vertical-align: middle;\n",
              "    }\n",
              "\n",
              "    .dataframe tbody tr th {\n",
              "        vertical-align: top;\n",
              "    }\n",
              "\n",
              "    .dataframe thead th {\n",
              "        text-align: right;\n",
              "    }\n",
              "</style>\n",
              "<table border=\"1\" class=\"dataframe\">\n",
              "  <thead>\n",
              "    <tr style=\"text-align: right;\">\n",
              "      <th></th>\n",
              "      <th>SAT</th>\n",
              "      <th>Top10</th>\n",
              "      <th>Accept</th>\n",
              "      <th>SFRatio</th>\n",
              "      <th>Expenses</th>\n",
              "      <th>GradRate</th>\n",
              "    </tr>\n",
              "    <tr>\n",
              "      <th>Cluster</th>\n",
              "      <th></th>\n",
              "      <th></th>\n",
              "      <th></th>\n",
              "      <th></th>\n",
              "      <th></th>\n",
              "      <th></th>\n",
              "    </tr>\n",
              "  </thead>\n",
              "  <tbody>\n",
              "    <tr>\n",
              "      <th>0</th>\n",
              "      <td>1303.368421</td>\n",
              "      <td>82.973684</td>\n",
              "      <td>26.473684</td>\n",
              "      <td>21.710526</td>\n",
              "      <td>33121.210526</td>\n",
              "      <td>86.868421</td>\n",
              "    </tr>\n",
              "    <tr>\n",
              "      <th>1</th>\n",
              "      <td>1278.741935</td>\n",
              "      <td>81.677419</td>\n",
              "      <td>29.774194</td>\n",
              "      <td>13.580645</td>\n",
              "      <td>50466.806452</td>\n",
              "      <td>83.806452</td>\n",
              "    </tr>\n",
              "    <tr>\n",
              "      <th>2</th>\n",
              "      <td>1250.580645</td>\n",
              "      <td>79.451613</td>\n",
              "      <td>24.774194</td>\n",
              "      <td>23.290323</td>\n",
              "      <td>52838.354839</td>\n",
              "      <td>92.516129</td>\n",
              "    </tr>\n",
              "  </tbody>\n",
              "</table>\n",
              "</div>"
            ],
            "text/plain": [
              "                 SAT      Top10     Accept    SFRatio      Expenses   GradRate\n",
              "Cluster                                                                       \n",
              "0        1303.368421  82.973684  26.473684  21.710526  33121.210526  86.868421\n",
              "1        1278.741935  81.677419  29.774194  13.580645  50466.806452  83.806452\n",
              "2        1250.580645  79.451613  24.774194  23.290323  52838.354839  92.516129"
            ]
          },
          "metadata": {
            "tags": []
          },
          "execution_count": 37
        }
      ]
    },
    {
      "cell_type": "code",
      "metadata": {
        "id": "_2i67DVML88e",
        "colab_type": "code",
        "colab": {}
      },
      "source": [
        "#import matplotlib and seaborn\n",
        "import matplotlib.pyplot as plt\n",
        "import seaborn as sns\n",
        "%matplotlib inline"
      ],
      "execution_count": 0,
      "outputs": []
    },
    {
      "cell_type": "code",
      "metadata": {
        "id": "TZyyLfntL88q",
        "colab_type": "code",
        "colab": {},
        "outputId": "a84c4285-05b8-41c1-e413-7a0b243d9fe2"
      },
      "source": [
        "#using scatter plot to see the clustering\n",
        "plt.scatter(colg.SAT,colg.GradRate,c = model.labels_)"
      ],
      "execution_count": 0,
      "outputs": [
        {
          "output_type": "execute_result",
          "data": {
            "text/plain": [
              "<matplotlib.collections.PathCollection at 0xb624e80>"
            ]
          },
          "metadata": {
            "tags": []
          },
          "execution_count": 55
        },
        {
          "output_type": "display_data",
          "data": {
            "image/png": "[encoded data removed]",
            "text/plain": [
              "<Figure size 432x288 with 1 Axes>"
            ]
          },
          "metadata": {
            "tags": []
          }
        }
      ]
    },
    {
      "cell_type": "code",
      "metadata": {
        "id": "bnYu37S7L882",
        "colab_type": "code",
        "colab": {}
      },
      "source": [
        ""
      ],
      "execution_count": 0,
      "outputs": []
    }
  ]
}